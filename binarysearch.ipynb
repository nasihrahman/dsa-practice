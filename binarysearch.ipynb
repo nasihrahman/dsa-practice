{
 "cells": [
  {
   "cell_type": "code",
   "execution_count": null,
   "id": "1d759e0f",
   "metadata": {},
   "outputs": [],
   "source": [
    "#reverseSearch\n",
    "\n",
    "def search(self, nums: List[int], target: int) -> bool:\n",
    "    low = 0\n",
    "    high = len(nums)-1\n",
    "    while low <= high:\n",
    "        mid = (low+high)//2\n",
    "        if nums[mid] == target:\n",
    "            return True\n",
    "        # handling all duplicate condition\n",
    "        if nums[low] == nums[mid] == nums[high]:\n",
    "            low +=1\n",
    "            high-=1\n",
    "        # when the left side is sorted\n",
    "        elif nums[mid] >= nums[low]:\n",
    "            if target >= nums[low] and target < nums[mid]:\n",
    "                high = mid-1\n",
    "            else:\n",
    "                low = mid+1\n",
    "        # when the right side is sorted\n",
    "        else:\n",
    "            if target <= nums[high] and target > nums[mid]:\n",
    "                low = mid+1\n",
    "            else:\n",
    "                high = mid-1\n",
    "    return False"
   ]
  }
 ],
 "metadata": {
  "language_info": {
   "name": "python"
  }
 },
 "nbformat": 4,
 "nbformat_minor": 5
}
