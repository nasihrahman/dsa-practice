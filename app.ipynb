{
 "cells": [
  {
   "cell_type": "markdown",
   "id": "3ec86897",
   "metadata": {},
   "source": [
    "2 sum"
   ]
  },
  {
   "cell_type": "code",
   "execution_count": 7,
   "id": "f369a43f",
   "metadata": {},
   "outputs": [],
   "source": [
    "from typing import List\n"
   ]
  },
  {
   "cell_type": "code",
   "execution_count": 10,
   "id": "c145736f",
   "metadata": {},
   "outputs": [
    {
     "name": "stdout",
     "output_type": "stream",
     "text": [
      "[0, 1]\n"
     ]
    }
   ],
   "source": [
    "class Solution:\n",
    "    def twoSum(self, nums, target):\n",
    "        seen={}\n",
    "        \n",
    "        for ix,num in enumerate(nums):\n",
    "            if target - num in seen:\n",
    "                return[seen[target-num],ix]\n",
    "            seen[num]=ix\n",
    "\n",
    "sol = Solution()\n",
    "print(sol.twoSum([2, 7, 11, 15], 9))"
   ]
  },
  {
   "cell_type": "markdown",
   "id": "ee469d6f",
   "metadata": {},
   "source": [
    "Stock Prices"
   ]
  },
  {
   "cell_type": "code",
   "execution_count": null,
   "id": "6d9c111c",
   "metadata": {},
   "outputs": [
    {
     "name": "stdout",
     "output_type": "stream",
     "text": [
      "5\n"
     ]
    }
   ],
   "source": [
    "def maxProfit(prices):\n",
    "    buy_price = prices[0]\n",
    "    profit = 0\n",
    "\n",
    "    for p in prices[1:]:\n",
    "        if p < buy_price:\n",
    "            buy_price = p\n",
    "        profit = max(profit, p - buy_price)\n",
    "\n",
    "    return profit\n",
    "\n",
    "# Example run\n",
    "print(maxProfit([7, 1, 5, 3, 6, 4]))  \n",
    "\n"
   ]
  },
  {
   "cell_type": "code",
   "execution_count": null,
   "id": "16a1579d",
   "metadata": {},
   "outputs": [
    {
     "name": "stdout",
     "output_type": "stream",
     "text": [
      "6\n"
     ]
    }
   ],
   "source": [
    "def maxSubArray(nums):\n",
    "    max_sum = nums[0]\n",
    "    current_sum = nums[0]\n",
    "\n",
    "    for num in nums[1:]:\n",
    "        current_sum = max(num, current_sum + num)\n",
    "        max_sum = max(max_sum, current_sum)\n",
    "\n",
    "    return max_sum\n",
    "\n",
    "# Example\n",
    "print(maxSubArray([-2,1,-3,4,-1,2,1,-5,4])) \n"
   ]
  },
  {
   "cell_type": "code",
   "execution_count": null,
   "id": "92236fae",
   "metadata": {},
   "outputs": [],
   "source": []
  }
 ],
 "metadata": {
  "kernelspec": {
   "display_name": "base",
   "language": "python",
   "name": "python3"
  },
  "language_info": {
   "codemirror_mode": {
    "name": "ipython",
    "version": 3
   },
   "file_extension": ".py",
   "mimetype": "text/x-python",
   "name": "python",
   "nbconvert_exporter": "python",
   "pygments_lexer": "ipython3",
   "version": "3.12.7"
  }
 },
 "nbformat": 4,
 "nbformat_minor": 5
}
