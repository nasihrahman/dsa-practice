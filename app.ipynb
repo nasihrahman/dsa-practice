{
 "cells": [
  {
   "cell_type": "markdown",
   "id": "3ec86897",
   "metadata": {},
   "source": [
    "2 sum"
   ]
  },
  {
   "cell_type": "code",
   "execution_count": 7,
   "id": "f369a43f",
   "metadata": {},
   "outputs": [],
   "source": [
    "from typing import List\n"
   ]
  },
  {
   "cell_type": "code",
   "execution_count": 10,
   "id": "c145736f",
   "metadata": {},
   "outputs": [
    {
     "name": "stdout",
     "output_type": "stream",
     "text": [
      "[0, 1]\n"
     ]
    }
   ],
   "source": [
    "class Solution:\n",
    "    def twoSum(self, nums, target):\n",
    "        seen={}\n",
    "        \n",
    "        for ix,num in enumerate(nums):\n",
    "            if target - num in seen:\n",
    "                return[seen[target-num],ix]\n",
    "            seen[num]=ix\n",
    "\n",
    "sol = Solution()\n",
    "print(sol.twoSum([2, 7, 11, 15], 9))"
   ]
  },
  {
   "cell_type": "markdown",
   "id": "ee469d6f",
   "metadata": {},
   "source": [
    "Stock Prices"
   ]
  },
  {
   "cell_type": "code",
   "execution_count": null,
   "id": "6d9c111c",
   "metadata": {},
   "outputs": [
    {
     "name": "stdout",
     "output_type": "stream",
     "text": [
      "5\n"
     ]
    }
   ],
   "source": [
    "def maxProfit(prices):\n",
    "    buy_price = prices[0]\n",
    "    profit = 0\n",
    "\n",
    "    for p in prices[1:]:\n",
    "        if p < buy_price:\n",
    "            buy_price = p\n",
    "        profit = max(profit, p - buy_price)\n",
    "\n",
    "    return profit\n",
    "\n",
    "# Example run\n",
    "print(maxProfit([7, 1, 5, 3, 6, 4]))  \n",
    "\n"
   ]
  },
  {
   "cell_type": "markdown",
   "id": "15925c2c",
   "metadata": {},
   "source": [
    "MaxSubArray"
   ]
  },
  {
   "cell_type": "code",
   "execution_count": null,
   "id": "16a1579d",
   "metadata": {},
   "outputs": [
    {
     "name": "stdout",
     "output_type": "stream",
     "text": [
      "6\n"
     ]
    }
   ],
   "source": [
    "def maxSubArray(nums):\n",
    "    max_sum = nums[0]\n",
    "    current_sum = nums[0]\n",
    "\n",
    "    for num in nums[1:]:\n",
    "        current_sum = max(num, current_sum + num)\n",
    "        max_sum = max(max_sum, current_sum)\n",
    "\n",
    "    return max_sum\n",
    "\n",
    "# Example\n",
    "print(maxSubArray([-2,1,-3,4,-1,2,1,-5,4])) \n"
   ]
  },
  {
   "cell_type": "markdown",
   "id": "4c5147a8",
   "metadata": {},
   "source": [
    "Valid Paranthesis"
   ]
  },
  {
   "cell_type": "code",
   "execution_count": 9,
   "id": "92236fae",
   "metadata": {},
   "outputs": [
    {
     "name": "stdout",
     "output_type": "stream",
     "text": [
      "True\n",
      "False\n",
      "True\n"
     ]
    }
   ],
   "source": [
    "def isValid(s: str) -> bool:\n",
    "    stack = []\n",
    "    mapping = {')': '(', ']': '[', '}': '{'}\n",
    "\n",
    "    for char in s:\n",
    "        if char in mapping.values():\n",
    "            stack.append(char)\n",
    "        elif char in mapping.keys():\n",
    "            if stack == [] or mapping[char]!=stack.pop():\n",
    "                return False\n",
    "        else: \n",
    "            continue\n",
    "\n",
    "    return  not stack\n",
    "\n",
    "# Examples\n",
    "print(isValid(\"()[]{}\"))   # True\n",
    "print(isValid(\"(]\"))       # False\n",
    "print(isValid(\"{[]}\"))     # True\n",
    " "
   ]
  },
  {
   "cell_type": "markdown",
   "id": "b2ead45a",
   "metadata": {},
   "source": [
    "Input: num = 3749\n",
    "\n",
    "Output: \"MMMDCCXLIX\"\n",
    "\n",
    "Explanation:\n",
    "\n",
    "3000 = MMM as 1000 (M) + 1000 (M) + 1000 (M)\n",
    " 700 = DCC as 500 (D) + 100 (C) + 100 (C)\n",
    "  40 = XL as 10 (X) less of 50 (L)\n",
    "   9 = IX as 1 (I) less of 10 (X)\n",
    "Note: 49 is not 1 (I) less of 50 (L) because the conversion is based on decimal places"
   ]
  },
  {
   "cell_type": "code",
   "execution_count": null,
   "id": "fc8f08d5",
   "metadata": {},
   "outputs": [],
   "source": [
    "#integer to roman\n",
    "class Solution:\n",
    "    def intToRoman(self, num: int) -> str:\n",
    "        value_symbols = [\n",
    "            (1000, 'M'), (900, 'CM'), (500, 'D'), (400, 'CD'),\n",
    "            (100, 'C'), (90, 'XC'), (50, 'L'), (40, 'XL'), (10, 'X'),\n",
    "            (9, 'IX'), (5, 'V'), (4, 'IV'), (1, 'I')\n",
    "        ]\n",
    "        \n",
    "        res = []\n",
    "\n",
    "        for value, symbol in value_symbols:\n",
    "            if num == 0:\n",
    "                break\n",
    "            count = num // value\n",
    "            res.append(symbol * count)\n",
    "            num -= count * value\n",
    "\n",
    "        return ''.join(res)   "
   ]
  }
 ],
 "metadata": {
  "kernelspec": {
   "display_name": "base",
   "language": "python",
   "name": "python3"
  },
  "language_info": {
   "codemirror_mode": {
    "name": "ipython",
    "version": 3
   },
   "file_extension": ".py",
   "mimetype": "text/x-python",
   "name": "python",
   "nbconvert_exporter": "python",
   "pygments_lexer": "ipython3",
   "version": "3.12.7"
  }
 },
 "nbformat": 4,
 "nbformat_minor": 5
}
