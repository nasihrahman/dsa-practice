{
 "cells": [
  {
   "cell_type": "code",
   "execution_count": 1,
   "id": "c17dc023",
   "metadata": {},
   "outputs": [
    {
     "ename": "TypeError",
     "evalue": "lengthOfLongestSubstring() missing 1 required positional argument: 's'",
     "output_type": "error",
     "traceback": [
      "\u001b[31m---------------------------------------------------------------------------\u001b[39m",
      "\u001b[31mTypeError\u001b[39m                                 Traceback (most recent call last)",
      "\u001b[36mCell\u001b[39m\u001b[36m \u001b[39m\u001b[32mIn[1]\u001b[39m\u001b[32m, line 16\u001b[39m\n\u001b[32m     12\u001b[39m         max_length = \u001b[38;5;28mmax\u001b[39m(max_length, right - left + \u001b[32m1\u001b[39m)\n\u001b[32m     14\u001b[39m     \u001b[38;5;28;01mreturn\u001b[39;00m max_length\n\u001b[32m---> \u001b[39m\u001b[32m16\u001b[39m \u001b[43mlengthOfLongestSubstring\u001b[49m\u001b[43m(\u001b[49m\u001b[33;43m\"\u001b[39;49m\u001b[33;43mabcabcbb\u001b[39;49m\u001b[33;43m\"\u001b[39;49m\u001b[43m)\u001b[49m\n",
      "\u001b[31mTypeError\u001b[39m: lengthOfLongestSubstring() missing 1 required positional argument: 's'"
     ]
    }
   ],
   "source": [
    "#length of longest substring\n",
    "def lengthOfLongestSubstring(self, s: str) -> int:\n",
    "    left = max_length = 0\n",
    "    char_set = set()\n",
    "    \n",
    "    for right in range(len(s)):\n",
    "        while s[right] in char_set:\n",
    "            char_set.remove(s[left])\n",
    "            left += 1\n",
    "\n",
    "        char_set.add(s[right])\n",
    "        max_length = max(max_length, right - left + 1)\n",
    "    \n",
    "    return max_length\n",
    "\n",
    "lengthOfLongestSubstring(\"abcabcbb\")"
   ]
  },
  {
   "cell_type": "code",
   "execution_count": null,
   "id": "80bce904",
   "metadata": {},
   "outputs": [],
   "source": [
    "def minSubArrayLen(self, target: int, nums: List[int]) -> int:\n",
    "    min_len = float(\"inf\")\n",
    "    left = 0\n",
    "    cur_sum = 0\n",
    "\n",
    "    for right in range(len(nums)):\n",
    "        cur_sum += nums[right]\n",
    "\n",
    "        while cur_sum >= target:\n",
    "            if right - left + 1 < min_len:\n",
    "                min_len = right - left + 1\n",
    "            cur_sum -= nums[left]\n",
    "            left += 1\n",
    "    \n",
    "    return min_len if min_len != float(\"inf\") else 0"
   ]
  }
 ],
 "metadata": {
  "kernelspec": {
   "display_name": "base",
   "language": "python",
   "name": "python3"
  },
  "language_info": {
   "codemirror_mode": {
    "name": "ipython",
    "version": 3
   },
   "file_extension": ".py",
   "mimetype": "text/x-python",
   "name": "python",
   "nbconvert_exporter": "python",
   "pygments_lexer": "ipython3",
   "version": "3.12.7"
  }
 },
 "nbformat": 4,
 "nbformat_minor": 5
}
