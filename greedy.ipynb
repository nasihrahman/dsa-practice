{
 "cells": [
  {
   "cell_type": "markdown",
   "id": "4d7d2d71",
   "metadata": {},
   "source": [
    "Coin change"
   ]
  },
  {
   "cell_type": "code",
   "execution_count": 1,
   "id": "67bdb62f",
   "metadata": {},
   "outputs": [
    {
     "name": "stdout",
     "output_type": "stream",
     "text": [
      "6\n"
     ]
    }
   ],
   "source": [
    "def findMin(n, denomination):\n",
    "    count =0\n",
    "    # Traverse through all denomination\n",
    "    for i in range(len(denomination) - 1, -1, -1):\n",
    "        # Find denominations\n",
    "        while n >= denomination[i]:\n",
    "            n -= denomination[i]\n",
    "            count +=1\n",
    "    return count\n",
    "\n",
    "if __name__ == '__main__':\n",
    "    denomination = [1, 2, 5, 10]\n",
    "    n = 39\n",
    "    print(findMin(n, denomination))"
   ]
  },
  {
   "cell_type": "markdown",
   "id": "22a543dd",
   "metadata": {},
   "source": [
    "Acitivity Selection"
   ]
  },
  {
   "cell_type": "code",
   "execution_count": 1,
   "id": "c2d8b021",
   "metadata": {},
   "outputs": [
    {
     "name": "stdout",
     "output_type": "stream",
     "text": [
      "4\n"
     ]
    }
   ],
   "source": [
    "def max_activities(start, end):\n",
    "    # Combine start and end into pairs and sort by end time\n",
    "    activities = sorted(zip(start, end), key=lambda x: x[1])\n",
    "    \n",
    "    count = 0\n",
    "    last_end_time = -1  # No activity selected yet\n",
    "\n",
    "    for s, e in activities:\n",
    "        if s >= last_end_time:\n",
    "            count += 1\n",
    "            last_end_time = e\n",
    "\n",
    "    return count\n",
    "\n",
    "# Example\n",
    "start = [1, 3, 0, 5, 8, 5]\n",
    "end   = [2, 4, 6, 7, 9, 9]\n",
    "print(max_activities(start, end))  # Expected output: 4\n"
   ]
  },
  {
   "cell_type": "markdown",
   "id": "8aa99ace",
   "metadata": {},
   "source": [
    "Greedy Fractional KNapsack"
   ]
  },
  {
   "cell_type": "code",
   "execution_count": 2,
   "id": "689b407d",
   "metadata": {},
   "outputs": [
    {
     "name": "stdout",
     "output_type": "stream",
     "text": [
      "Maximum value in knapsack: 240.00\n"
     ]
    }
   ],
   "source": [
    "def fractional_knapsack(values, weights, capacity):\n",
    "    # Step 1: Create list of (value, weight, value/weight ratio)\n",
    "    items = []\n",
    "    for i in range(len(values)):\n",
    "        ratio = values[i] / weights[i]\n",
    "        items.append((values[i], weights[i], ratio))\n",
    "    \n",
    "    # Step 2: Sort items by value/weight ratio (highest first)\n",
    "    items.sort(key=lambda x: x[2], reverse=True)\n",
    "\n",
    "    total_value = 0.0\n",
    "    for value, weight, ratio in items:\n",
    "        if capacity >= weight:\n",
    "            # Take the full item\n",
    "            total_value += value\n",
    "            capacity -= weight\n",
    "        else:\n",
    "            # Take fraction of the item\n",
    "            total_value += ratio * capacity\n",
    "            break  # Knapsack is full\n",
    "\n",
    "    return total_value\n",
    "\n",
    "# Example\n",
    "values  = [60, 100, 120]\n",
    "weights = [10, 20, 30]\n",
    "capacity = 50\n",
    "\n",
    "result = fractional_knapsack(values, weights, capacity)\n",
    "print(f\"Maximum value in knapsack: {result:.2f}\")\n"
   ]
  },
  {
   "cell_type": "markdown",
   "id": "1376839a",
   "metadata": {},
   "source": [
    "Minimum Number Of platforms"
   ]
  },
  {
   "cell_type": "code",
   "execution_count": 2,
   "id": "40aa2402",
   "metadata": {},
   "outputs": [
    {
     "data": {
      "text/plain": [
       "3"
      ]
     },
     "execution_count": 2,
     "metadata": {},
     "output_type": "execute_result"
    }
   ],
   "source": [
    "def min_platforms(arrival, departure):\n",
    "    arrival.sort()\n",
    "    departure.sort()\n",
    "    \n",
    "    n = len(arrival)\n",
    "    i = j = 0\n",
    "    platform_needed = 0\n",
    "    max_platforms = 0\n",
    "\n",
    "    while i < n and j < n:\n",
    "        if arrival[i] <= departure[j]:\n",
    "            platform_needed += 1\n",
    "            i += 1\n",
    "        else:\n",
    "            platform_needed -= 1\n",
    "            j += 1\n",
    "        max_platforms = max(max_platforms, platform_needed)\n",
    "\n",
    "    return max_platforms\n",
    "\n",
    "min_platforms([900, 940, 950, 1100, 1500, 1800],[910, 1200, 1120, 1130, 1900, 2000])"
   ]
  }
 ],
 "metadata": {
  "kernelspec": {
   "display_name": "base",
   "language": "python",
   "name": "python3"
  },
  "language_info": {
   "codemirror_mode": {
    "name": "ipython",
    "version": 3
   },
   "file_extension": ".py",
   "mimetype": "text/x-python",
   "name": "python",
   "nbconvert_exporter": "python",
   "pygments_lexer": "ipython3",
   "version": "3.12.7"
  }
 },
 "nbformat": 4,
 "nbformat_minor": 5
}
