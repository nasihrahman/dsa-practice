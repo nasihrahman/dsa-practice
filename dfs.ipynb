{
 "cells": [
  {
   "cell_type": "markdown",
   "id": "02bd1657",
   "metadata": {},
   "source": [
    "Paranthesis\n"
   ]
  },
  {
   "cell_type": "code",
   "execution_count": null,
   "id": "a8c83fba",
   "metadata": {},
   "outputs": [],
   "source": [
    "class Solution:\n",
    "    def generateParenthesis(self, n: int) -> List[str]:\n",
    "        res = []\n",
    "\n",
    "        def dfs(openP, closeP, s):\n",
    "            if openP == closeP and openP + closeP == n * 2:\n",
    "                res.append(s)\n",
    "                return\n",
    "            \n",
    "            if openP < n:\n",
    "                dfs(openP + 1, closeP, s + \"(\")\n",
    "            \n",
    "            if closeP < openP:\n",
    "                dfs(openP, closeP + 1, s + \")\")\n",
    "\n",
    "        dfs(0, 0, \"\")\n",
    "\n",
    "        return res"
   ]
  },
  {
   "cell_type": "code",
   "execution_count": null,
   "id": "1e35dd95",
   "metadata": {},
   "outputs": [],
   "source": [
    "#number of islands\n",
    "def numIslands(grid):\n",
    "    if not grid:\n",
    "        return 0\n",
    "\n",
    "    rows, cols = len(grid), len(grid[0])\n",
    "    count = 0\n",
    "\n",
    "    def dfs(r, c):\n",
    "        # Boundary & water check\n",
    "        if r < 0 or c < 0 or r >= rows or c >= cols or grid[r][c] == \"0\":\n",
    "            return\n",
    "        grid[r][c] = \"0\"  # mark visited\n",
    "        # explore 4 directions\n",
    "        dfs(r+1, c)\n",
    "        dfs(r-1, c)\n",
    "        dfs(r, c+1)\n",
    "        dfs(r, c-1)\n",
    "\n",
    "    for i in range(rows):\n",
    "        for j in range(cols):\n",
    "            if grid[i][j] == \"1\":\n",
    "                count += 1\n",
    "                dfs(i, j)\n",
    "\n",
    "    return count\n"
   ]
  }
 ],
 "metadata": {
  "language_info": {
   "name": "python"
  }
 },
 "nbformat": 4,
 "nbformat_minor": 5
}
